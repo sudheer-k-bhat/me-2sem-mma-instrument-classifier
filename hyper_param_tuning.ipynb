{
 "metadata": {
  "language_info": {
   "codemirror_mode": {
    "name": "ipython",
    "version": 3
   },
   "file_extension": ".py",
   "mimetype": "text/x-python",
   "name": "python",
   "nbconvert_exporter": "python",
   "pygments_lexer": "ipython3",
   "version": "3.8.3"
  },
  "orig_nbformat": 2,
  "kernelspec": {
   "name": "multi-media",
   "display_name": "Multi-media",
   "language": "python"
  }
 },
 "nbformat": 4,
 "nbformat_minor": 2,
 "cells": [
  {
   "cell_type": "code",
   "execution_count": 1,
   "metadata": {},
   "outputs": [],
   "source": [
    "# Import packages\n",
    "import numpy as np\n",
    "import pandas as pd\n",
    "\n",
    "import librosa\n",
    "import librosa.display as ld\n",
    "\n",
    "import glob\n",
    "\n",
    "import matplotlib.pyplot as plt"
   ]
  },
  {
   "cell_type": "code",
   "execution_count": 2,
   "metadata": {},
   "outputs": [
    {
     "output_type": "execute_result",
     "data": {
      "text/plain": [
       "          fname      label\n",
       "0  5388d14d.wav  Saxophone\n",
       "1  c685f05f.wav  Saxophone\n",
       "2  36d20ab5.wav  Saxophone\n",
       "3  d6665734.wav  Saxophone\n",
       "4  7352e28f.wav  Saxophone"
      ],
      "text/html": "<div>\n<style scoped>\n    .dataframe tbody tr th:only-of-type {\n        vertical-align: middle;\n    }\n\n    .dataframe tbody tr th {\n        vertical-align: top;\n    }\n\n    .dataframe thead th {\n        text-align: right;\n    }\n</style>\n<table border=\"1\" class=\"dataframe\">\n  <thead>\n    <tr style=\"text-align: right;\">\n      <th></th>\n      <th>fname</th>\n      <th>label</th>\n    </tr>\n  </thead>\n  <tbody>\n    <tr>\n      <th>0</th>\n      <td>5388d14d.wav</td>\n      <td>Saxophone</td>\n    </tr>\n    <tr>\n      <th>1</th>\n      <td>c685f05f.wav</td>\n      <td>Saxophone</td>\n    </tr>\n    <tr>\n      <th>2</th>\n      <td>36d20ab5.wav</td>\n      <td>Saxophone</td>\n    </tr>\n    <tr>\n      <th>3</th>\n      <td>d6665734.wav</td>\n      <td>Saxophone</td>\n    </tr>\n    <tr>\n      <th>4</th>\n      <td>7352e28f.wav</td>\n      <td>Saxophone</td>\n    </tr>\n  </tbody>\n</table>\n</div>"
     },
     "metadata": {},
     "execution_count": 2
    }
   ],
   "source": [
    "df = pd.read_csv('instruments.csv')\n",
    "df.head()"
   ]
  },
  {
   "cell_type": "code",
   "execution_count": 3,
   "metadata": {},
   "outputs": [],
   "source": [
    "class Config:\n",
    "    sr = 44100\n",
    "    random_state = 42"
   ]
  },
  {
   "cell_type": "code",
   "execution_count": 17,
   "metadata": {},
   "outputs": [],
   "source": [
    "def extract_mfcc(signal, sr):\n",
    "    mfccs = librosa.feature.mfcc(y=signal, sr=sr)\n",
    "    aver = np.mean(mfccs, axis = 1)\n",
    "    feature = aver.reshape(20)\n",
    "    return feature\n",
    "\n",
    "def extract_melspectrogram(signal, sr):\n",
    "    spectrogram = librosa.feature.melspectrogram(signal)\n",
    "    spectrogram = librosa.power_to_db(spectrogram)\n",
    "    spectrogram = spectrogram.astype(np.float32)\n",
    "    spectrogram = np.mean(spectrogram, axis=1)\n",
    "    return spectrogram\n",
    "\n",
    "def extract(row):\n",
    "    signal, sr = librosa.load(f'wavfiles/{row[0]}', Config.sr)\n",
    "    x1 = extract_mfcc(signal, sr)\n",
    "    x2 = extract_melspectrogram(signal, sr)\n",
    "    return x1,x2\n",
    "\n",
    "df['mfcc'] = zip(*df.apply(extract, result_type='expand'))"
   ]
  },
  {
   "cell_type": "code",
   "execution_count": 18,
   "metadata": {},
   "outputs": [
    {
     "output_type": "execute_result",
     "data": {
      "text/plain": [
       "          fname      label                                               mfcc  \\\n",
       "0  5388d14d.wav  Saxophone  (-272.33786, 58.306755, -47.943787, 7.301422, ...   \n",
       "1  c685f05f.wav  Saxophone  (-287.33243, 101.56712, -29.987404, 20.038153,...   \n",
       "2  36d20ab5.wav  Saxophone  (-238.68503, 153.41728, -26.39078, 26.09202, 1...   \n",
       "3  d6665734.wav  Saxophone  (-351.35153, 166.21623, -41.64548, 4.0183616, ...   \n",
       "4  7352e28f.wav  Saxophone  (-315.89813, 146.70885, -78.09529, -38.58948, ...   \n",
       "\n",
       "                                      melspectrogram  \n",
       "0  (-2.7999992, -25.17658, -28.684496, -28.723795...  \n",
       "1  (2.3896997, -17.04163, -16.49534, -13.215973, ...  \n",
       "2  (-9.527214, -15.543957, 10.565876, 24.367052, ...  \n",
       "3  (-33.780457, -23.965872, -6.249142, 3.50676, 5...  \n",
       "4  (-33.47275, -35.72336, -40.216938, -40.49374, ...  "
      ],
      "text/html": "<div>\n<style scoped>\n    .dataframe tbody tr th:only-of-type {\n        vertical-align: middle;\n    }\n\n    .dataframe tbody tr th {\n        vertical-align: top;\n    }\n\n    .dataframe thead th {\n        text-align: right;\n    }\n</style>\n<table border=\"1\" class=\"dataframe\">\n  <thead>\n    <tr style=\"text-align: right;\">\n      <th></th>\n      <th>fname</th>\n      <th>label</th>\n      <th>mfcc</th>\n      <th>melspectrogram</th>\n    </tr>\n  </thead>\n  <tbody>\n    <tr>\n      <th>0</th>\n      <td>5388d14d.wav</td>\n      <td>Saxophone</td>\n      <td>(-272.33786, 58.306755, -47.943787, 7.301422, ...</td>\n      <td>(-2.7999992, -25.17658, -28.684496, -28.723795...</td>\n    </tr>\n    <tr>\n      <th>1</th>\n      <td>c685f05f.wav</td>\n      <td>Saxophone</td>\n      <td>(-287.33243, 101.56712, -29.987404, 20.038153,...</td>\n      <td>(2.3896997, -17.04163, -16.49534, -13.215973, ...</td>\n    </tr>\n    <tr>\n      <th>2</th>\n      <td>36d20ab5.wav</td>\n      <td>Saxophone</td>\n      <td>(-238.68503, 153.41728, -26.39078, 26.09202, 1...</td>\n      <td>(-9.527214, -15.543957, 10.565876, 24.367052, ...</td>\n    </tr>\n    <tr>\n      <th>3</th>\n      <td>d6665734.wav</td>\n      <td>Saxophone</td>\n      <td>(-351.35153, 166.21623, -41.64548, 4.0183616, ...</td>\n      <td>(-33.780457, -23.965872, -6.249142, 3.50676, 5...</td>\n    </tr>\n    <tr>\n      <th>4</th>\n      <td>7352e28f.wav</td>\n      <td>Saxophone</td>\n      <td>(-315.89813, 146.70885, -78.09529, -38.58948, ...</td>\n      <td>(-33.47275, -35.72336, -40.216938, -40.49374, ...</td>\n    </tr>\n  </tbody>\n</table>\n</div>"
     },
     "metadata": {},
     "execution_count": 18
    }
   ],
   "source": [
    "df.head(5)"
   ]
  },
  {
   "cell_type": "code",
   "execution_count": 62,
   "metadata": {},
   "outputs": [
    {
     "output_type": "execute_result",
     "data": {
      "text/plain": [
       "(20, 128)"
      ]
     },
     "metadata": {},
     "execution_count": 62
    }
   ],
   "source": [
    "len(df.mfcc[1]), len(df.melspectrogram[1])"
   ]
  },
  {
   "cell_type": "code",
   "execution_count": 59,
   "metadata": {},
   "outputs": [],
   "source": [
    "def get_X_y(data, feature_col, label_col=1):\n",
    "    data = df.apply(lambda x: np.append(x[feature_col], x[label_col]), axis=1, result_type='expand')\n",
    "    X = data.iloc[:, :-1]\n",
    "    y = data.iloc[:, -1]\n",
    "    return X, y"
   ]
  },
  {
   "cell_type": "code",
   "execution_count": 60,
   "metadata": {},
   "outputs": [
    {
     "output_type": "stream",
     "name": "stdout",
     "text": [
      "Explained variance for n_components=5 is 0.9373442087910978\nExplained variance for n_components=10 is 0.9849497380888347\nExplained variance for n_components=15 is 0.9975582644786162\nExplained variance for n_components=20 is 0.9999999999999999\n"
     ]
    }
   ],
   "source": [
    "from sklearn.decomposition import PCA\n",
    "# Apply PCA for MFCC feature\n",
    "X, y = get_X_y(df, 2)\n",
    "for n_components in [5, 10, 15, 20]:\n",
    "    pca = PCA(n_components=n_components)\n",
    "    principalComponents = pca.fit_transform(X)\n",
    "    print(f'Explained variance for n_components={n_components} is {pca.explained_variance_ratio_.sum()}')"
   ]
  },
  {
   "cell_type": "code",
   "execution_count": 63,
   "metadata": {},
   "outputs": [
    {
     "output_type": "stream",
     "name": "stdout",
     "text": [
      "Explained variance for n_components=5 is 0.8349438099730696\n",
      "Explained variance for n_components=10 is 0.8887424585811609\n",
      "Explained variance for n_components=15 is 0.923406941473843\n",
      "Explained variance for n_components=20 is 0.9469283337049852\n",
      "Explained variance for n_components=30 is 0.9740396240628562\n",
      "Explained variance for n_components=40 is 0.9865471004601114\n",
      "Explained variance for n_components=50 is 0.9928228321331468\n"
     ]
    }
   ],
   "source": [
    "# Apply PCA for melspectrogram\n",
    "X, y = get_X_y(df, 3)\n",
    "for n_components in [5, 10, 15, 20, 30, 40, 50]:\n",
    "    pca = PCA(n_components=n_components)\n",
    "    principalComponents = pca.fit_transform(X)\n",
    "    print(f'Explained variance for n_components={n_components} is {pca.explained_variance_ratio_.sum()}')"
   ]
  },
  {
   "source": [
    "From the above analysis the number of pca components for\n",
    "* MelSpectrogram feature can be choosen as 40\n",
    "* MFCC feature can be choosen as 15"
   ],
   "cell_type": "markdown",
   "metadata": {}
  }
 ]
}